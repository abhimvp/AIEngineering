{
 "cells": [
  {
   "cell_type": "code",
   "execution_count": 8,
   "id": "412d6532",
   "metadata": {},
   "outputs": [
    {
     "name": "stdout",
     "output_type": "stream",
     "text": [
      "Note: you may need to restart the kernel to use updated packages.\n"
     ]
    },
    {
     "name": "stderr",
     "output_type": "stream",
     "text": [
      "\n",
      "[notice] A new release of pip is available: 25.0.1 -> 25.1.1\n",
      "[notice] To update, run: python.exe -m pip install --upgrade pip\n"
     ]
    },
    {
     "name": "stdout",
     "output_type": "stream",
     "text": [
      "Requirement already satisfied: nltk in c:\\users\\abhis\\appdata\\local\\programs\\python\\python311\\lib\\site-packages (3.9.1)\n",
      "Requirement already satisfied: click in c:\\users\\abhis\\appdata\\local\\programs\\python\\python311\\lib\\site-packages (from nltk) (8.1.8)\n",
      "Requirement already satisfied: joblib in c:\\users\\abhis\\appdata\\local\\programs\\python\\python311\\lib\\site-packages (from nltk) (1.4.2)\n",
      "Requirement already satisfied: regex>=2021.8.3 in c:\\users\\abhis\\appdata\\local\\programs\\python\\python311\\lib\\site-packages (from nltk) (2024.11.6)\n",
      "Requirement already satisfied: tqdm in c:\\users\\abhis\\appdata\\local\\programs\\python\\python311\\lib\\site-packages (from nltk) (4.67.1)\n",
      "Requirement already satisfied: colorama in c:\\users\\abhis\\appdata\\local\\programs\\python\\python311\\lib\\site-packages (from click->nltk) (0.4.6)\n"
     ]
    }
   ],
   "source": [
    "pip install nltk\n"
   ]
  },
  {
   "cell_type": "code",
   "execution_count": 10,
   "id": "4cc82af8",
   "metadata": {},
   "outputs": [
    {
     "name": "stderr",
     "output_type": "stream",
     "text": [
      "[nltk_data] Downloading package punkt_tab to\n",
      "[nltk_data]     C:\\Users\\abhis\\AppData\\Roaming\\nltk_data...\n",
      "[nltk_data]   Package punkt_tab is already up-to-date!\n"
     ]
    },
    {
     "data": {
      "text/plain": [
       "True"
      ]
     },
     "execution_count": 10,
     "metadata": {},
     "output_type": "execute_result"
    }
   ],
   "source": [
    "import nltk\n",
    "# Download the 'punkt_tab' tokenizer models\n",
    "nltk.download('punkt_tab')"
   ]
  },
  {
   "cell_type": "code",
   "execution_count": 11,
   "id": "bef6db28",
   "metadata": {},
   "outputs": [
    {
     "name": "stdout",
     "output_type": "stream",
     "text": [
      "['Hello', ',', 'world', '!', 'This', 'is', 'a', 'test', '.', 'Let', \"'s\", 'see', 'how', 'it', 'works', '.']\n"
     ]
    }
   ],
   "source": [
    "# sample text \n",
    "text = \"Hello, world! This is a test. Let's see how it works.\"\n",
    "# Tokenize the text\n",
    "tokens = nltk.word_tokenize(text)\n",
    "# Print the tokens\n",
    "print(tokens)\n"
   ]
  },
  {
   "cell_type": "code",
   "execution_count": 12,
   "id": "d535d777",
   "metadata": {},
   "outputs": [
    {
     "name": "stdout",
     "output_type": "stream",
     "text": [
      "['Hello, world!', 'This is a test.', \"Let's see how it works.\"]\n"
     ]
    }
   ],
   "source": [
    "# sentence tokenization\n",
    "from nltk.tokenize import sent_tokenize\n",
    "# Tokenize the text into sentences\n",
    "sentences = sent_tokenize(text)\n",
    "# Print the sentences\n",
    "print(sentences)"
   ]
  },
  {
   "cell_type": "code",
   "execution_count": 13,
   "id": "a38f3151",
   "metadata": {},
   "outputs": [],
   "source": [
    "# preprocessing text\n",
    "# convert to lowercase and remove non-alphanumeric characters\n",
    "\n",
    "def preprocess_text(text):\n",
    "    # Convert text to lowercase\n",
    "    tokens = nltk.word_tokenize(text.lower())\n",
    "    return [word for word in tokens if word.isalnum()]\n",
    "\n",
    "# example documents\n",
    "documents = [\n",
    "    \"Hello, world! This is a test.\",\n",
    "    \"Let's see how it works.\",\n",
    "    \"NLP is fun and interesting.\"\n",
    "]"
   ]
  },
  {
   "cell_type": "code",
   "execution_count": 15,
   "id": "bbd4a4ef",
   "metadata": {},
   "outputs": [
    {
     "name": "stdout",
     "output_type": "stream",
     "text": [
      "['hello world this is a test', 'let see how it works', 'nlp is fun and interesting']\n"
     ]
    }
   ],
   "source": [
    "preprocessed_documents = [ ' '.join(preprocess_text(doc)) for doc in documents]\n",
    "# Print the preprocessed documents\n",
    "print(preprocessed_documents)"
   ]
  },
  {
   "cell_type": "markdown",
   "id": "75818f54",
   "metadata": {},
   "source": [
    "## Practical Tips for Effective Tokenization:\n",
    "\n",
    "- pre-process text before tokenization ( remove unnecessary characters and into lower-case)\n",
    "- Handle Stop words ( and , is , the ..etc)\n",
    "- Consider context ( different tasks require different tokenization strategies)\n",
    "- Test and Iterate ( see if it works)\n",
    "\n",
    "**Though tokenization looks simple but it is crucial for analyzing text and data and forms a foundation for advanced NLP tasks**\n"
   ]
  },
  {
   "cell_type": "markdown",
   "id": "baf5e0df",
   "metadata": {},
   "source": []
  }
 ],
 "metadata": {
  "kernelspec": {
   "display_name": ".venv",
   "language": "python",
   "name": "python3"
  },
  "language_info": {
   "codemirror_mode": {
    "name": "ipython",
    "version": 3
   },
   "file_extension": ".py",
   "mimetype": "text/x-python",
   "name": "python",
   "nbconvert_exporter": "python",
   "pygments_lexer": "ipython3",
   "version": "3.12.0"
  }
 },
 "nbformat": 4,
 "nbformat_minor": 5
}
